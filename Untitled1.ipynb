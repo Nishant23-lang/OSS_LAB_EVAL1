{
 "cells": [
  {
   "cell_type": "code",
   "execution_count": 1,
   "id": "1a0329b7",
   "metadata": {},
   "outputs": [
    {
     "name": "stdout",
     "output_type": "stream",
     "text": [
      "Enter task1 to be entered: \n"
     ]
    }
   ],
   "source": [
    "print(\"Enter task1 to be entered: \")"
   ]
  },
  {
   "cell_type": "code",
   "execution_count": 2,
   "id": "675c5fcf",
   "metadata": {},
   "outputs": [
    {
     "name": "stdout",
     "output_type": "stream",
     "text": [
      "Reading\n"
     ]
    }
   ],
   "source": [
    "task1 = input()\n"
   ]
  },
  {
   "cell_type": "code",
   "execution_count": 3,
   "id": "da7c07c4",
   "metadata": {},
   "outputs": [
    {
     "name": "stdout",
     "output_type": "stream",
     "text": [
      "11\n",
      "Active\n"
     ]
    }
   ],
   "source": [
    "Id1 = input()\n",
    "Task1_stat = input()"
   ]
  },
  {
   "cell_type": "code",
   "execution_count": 4,
   "id": "774e4788",
   "metadata": {},
   "outputs": [
    {
     "name": "stdout",
     "output_type": "stream",
     "text": [
      "{'Task': 'Reading', 'Id': '11', 'Status': 'Active'}\n"
     ]
    }
   ],
   "source": [
    "task_dict = {}\n",
    "task_dict[0] = {\n",
    "    'Task' : task1,\n",
    "    'Id' : Id1,\n",
    "    'Status' : Task1_stat\n",
    "}\n",
    "print(task_dict[0])"
   ]
  },
  {
   "cell_type": "code",
   "execution_count": 5,
   "id": "ec83b422",
   "metadata": {},
   "outputs": [
    {
     "name": "stdout",
     "output_type": "stream",
     "text": [
      "Walk\n",
      "12\n",
      "Inactive\n",
      "{'Task': 'Walk', 'Id': '12', 'Status': 'Inactive'}\n"
     ]
    }
   ],
   "source": [
    "task1 = input()\n",
    "Id1 = input()\n",
    "Task1_stat = input()\n",
    "\n",
    "task_dict[1] = {\n",
    "    'Task' : task1,\n",
    "    'Id' : Id1,\n",
    "    'Status' : Task1_stat\n",
    "}\n",
    "\n",
    "print(task_dict[1])"
   ]
  },
  {
   "cell_type": "code",
   "execution_count": 6,
   "id": "09308201",
   "metadata": {},
   "outputs": [
    {
     "name": "stdout",
     "output_type": "stream",
     "text": [
      "Workout\n",
      "15\n",
      "Inactive\n",
      "{'Task': 'Workout', 'Id': '15', 'Status': 'Inactive'}\n"
     ]
    }
   ],
   "source": [
    "task1 = input()\n",
    "Id1 = input()\n",
    "Task1_stat = input()\n",
    "\n",
    "task_dict[2] = {\n",
    "    'Task' : task1,\n",
    "    'Id' : Id1,\n",
    "    'Status' : Task1_stat\n",
    "}\n",
    "\n",
    "print(task_dict[2])"
   ]
  },
  {
   "cell_type": "code",
   "execution_count": 7,
   "id": "75641b1f",
   "metadata": {},
   "outputs": [
    {
     "name": "stdout",
     "output_type": "stream",
     "text": [
      "{'Task': 'Reading', 'Id': '11', 'Status': 'Active'}\n",
      "{'Task': 'Walk', 'Id': '12', 'Status': 'Inactive'}\n",
      "{'Task': 'Workout', 'Id': '15', 'Status': 'Inactive'}\n"
     ]
    }
   ],
   "source": [
    "print(task_dict[0])\n",
    "print(task_dict[1])\n",
    "print(task_dict[2])"
   ]
  },
  {
   "cell_type": "code",
   "execution_count": 9,
   "id": "9b640a49",
   "metadata": {},
   "outputs": [
    {
     "name": "stdout",
     "output_type": "stream",
     "text": [
      "{'Task': 'Walking', 'Id': '12', 'Status': 'Active'}\n"
     ]
    }
   ],
   "source": [
    "task_dict[1]['Task'] = 'Walking'\n",
    "task_dict[1]['Status'] = 'Active'\n",
    "print(task_dict[1])"
   ]
  },
  {
   "cell_type": "code",
   "execution_count": 10,
   "id": "2dd02da6",
   "metadata": {},
   "outputs": [],
   "source": [
    "task_dict[0]['Status'] = 'Inactive'"
   ]
  },
  {
   "cell_type": "code",
   "execution_count": 11,
   "id": "204cf127",
   "metadata": {},
   "outputs": [
    {
     "name": "stdout",
     "output_type": "stream",
     "text": [
      "{'Task': 'Reading', 'Id': '11', 'Status': 'Inactive'}\n"
     ]
    }
   ],
   "source": [
    "print(task_dict[0])"
   ]
  },
  {
   "cell_type": "code",
   "execution_count": 12,
   "id": "a818f76f",
   "metadata": {},
   "outputs": [],
   "source": [
    "del task_dict[0]"
   ]
  },
  {
   "cell_type": "code",
   "execution_count": 13,
   "id": "ebf3b04a",
   "metadata": {},
   "outputs": [
    {
     "name": "stdout",
     "output_type": "stream",
     "text": [
      "{1: {'Task': 'Walking', 'Id': '12', 'Status': 'Active'}, 2: {'Task': 'Workout', 'Id': '15', 'Status': 'Inactive'}}\n"
     ]
    }
   ],
   "source": [
    "print(task_dict)"
   ]
  },
  {
   "cell_type": "code",
   "execution_count": 15,
   "id": "f23c88ef",
   "metadata": {},
   "outputs": [
    {
     "name": "stdout",
     "output_type": "stream",
     "text": [
      "Task1: \n",
      "Name:  Walking\n",
      "Id:  12\n",
      "Task 2: \n",
      "Name:  Workout\n",
      "Status:  Inactive\n",
      "Id:  Inactive\n"
     ]
    }
   ],
   "source": [
    "print(\"Task1: \")\n",
    "print(\"Name: \",task_dict[1]['Task'])\n",
    "print(\"Id: \",task_dict[1]['Id'])\n",
    "print(\"Task 2: \")\n",
    "print(\"Name: \",task_dict[2]['Task'])\n",
    "print(\"Status: \",task_dict[2]['Status'])\n",
    "print(\"Id: \",task_dict[2]['Status'])"
   ]
  },
  {
   "cell_type": "code",
   "execution_count": 16,
   "id": "253e27c5",
   "metadata": {},
   "outputs": [
    {
     "name": "stdout",
     "output_type": "stream",
     "text": [
      "Task with end letter g:  Walking\n"
     ]
    }
   ],
   "source": [
    "print(\"Task with end letter g: \", task_dict[1]['Task'])"
   ]
  },
  {
   "cell_type": "code",
   "execution_count": null,
   "id": "6e301c58",
   "metadata": {},
   "outputs": [],
   "source": []
  }
 ],
 "metadata": {
  "kernelspec": {
   "display_name": "Python 3 (ipykernel)",
   "language": "python",
   "name": "python3"
  },
  "language_info": {
   "codemirror_mode": {
    "name": "ipython",
    "version": 3
   },
   "file_extension": ".py",
   "mimetype": "text/x-python",
   "name": "python",
   "nbconvert_exporter": "python",
   "pygments_lexer": "ipython3",
   "version": "3.11.5"
  }
 },
 "nbformat": 4,
 "nbformat_minor": 5
}
